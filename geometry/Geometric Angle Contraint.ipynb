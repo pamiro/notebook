{
 "cells": [
  {
   "cell_type": "markdown",
   "metadata": {},
   "source": [
    "## Geometrical angle constraint\n",
    "\n",
    "Below is the example of application of langrange multipliers to minimization problem.\n",
    "\n",
    "Angle constraint between three points $\\textbf{p}_1=[x_1, y_1]^T$, $\\textbf{p}_2=[x_2, y_2]^T$, $\\textbf{p}_3=[x_3, y_3]^T$ is described using the following equation:\n",
    "\n",
    "$$s=|(\\textbf{p}_1-\\textbf{p}_2)\\times(\\textbf{p}_3 - \\textbf{p}_2)|$$\n",
    "$$c=(\\textbf{p}_1-\\textbf{p}_2)\\cdot(\\textbf{p}_3 - \\textbf{p}_2)$$ \n",
    "\n",
    "$$arctan(\\frac{s}{c})= \\alpha $$ or, with some restrictions\n",
    "$$\\frac{s}{c} = tan(\\alpha)$$\n",
    "\n",
    "Then let's define function to minimize\n",
    "\n",
    "$$F=\\frac{1}{2}(|\\textbf{p}_1-\\textbf{p}_1^{(0)}|^2 + |\\textbf{p}_2-\\textbf{p}_2^{(0)}|^2 + |\\textbf{p}_3-\\textbf{p}_3^{(0)}|^2) + \\lambda (arctg(\\frac{s}{c} - \\alpha))$$\n",
    "\n",
    "Or let's focus on more practical case with the following constraints: \n",
    "\n",
    "$$F=\\frac{1}{2}(|\\textbf{p}_1-\\textbf{p}_1^{(0)}|^2 + |\\textbf{p}_2-\\textbf{p}_2^{(0)}|^2 + |\\textbf{p}_3-\\textbf{p}_3^{(0)}|^2) + \\lambda (arctg(\\frac{s}{c} - \\alpha)) + \\mu ( (\\textbf{p}_1-\\textbf{p}_2)^2 - d_1^2  ) + \\omega ( ((\\textbf{p}_3-\\textbf{p}_2))^2 - d_2^2 ) $$\n",
    "\n",
    "$$ \\textbf{p}_2 = const $$\n",
    "\n",
    "$$ d_1^2 = (\\textbf{p}_1^{(0)}-\\textbf{p}_2^{(0)})^2 $$\n",
    "$$ d_2^2 = (\\textbf{p}_3^{(0)}-\\textbf{p}_2^{(0)})^2 $$\n"
   ]
  },
  {
   "cell_type": "markdown",
   "metadata": {},
   "source": [
    "$$ (\\textbf{p}_1-\\textbf{p}_2)^2 = (x_1 - x_2)^2 + (y_1 - y_2)^2 $$\n",
    "$$ (\\textbf{p}_3-\\textbf{p}_2)^2 = (x_3 - x_2)^2 + (y_3 - y_2)^2 $$"
   ]
  },
  {
   "cell_type": "markdown",
   "metadata": {},
   "source": [
    "We would come the the following equations:\n",
    "\n",
    "$$ s = (x_1 - x_2)(y_3 - y_2) - (x_3 - x_2)(y_1 - y_2)$$\n",
    "$$ c = (x_1 - x_2)(x_3 - x_2) + (y_1 - y_2) (y_3 - y_2)$$\n",
    "\n",
    "$$ \\partial arctan (\\frac{s}{c}) = \\frac{1}{1 + (\\frac{s}{c})^2}( \\partial s\\frac{1}{c} - \\partial c \\frac{s}{c^2} )  = \\frac{1}{c^2 + s^2}( \\partial s\\ * c - \\partial c * s )$$\n",
    "\n",
    "$$x_1-x_1^{0}+\\lambda \\frac{c(y_3-y_2)-s(x_3-x_2)}{s^2+c^2} + \\mu ( 2(x_1 - x_2) ) = 0$$\n",
    "$$y_1-y_1^{0}+\\lambda \\frac{-c(x_3-x_2)-s(y_3-y_2)}{s^2+c^2} + \\mu ( 2(y_1 - y_2) ) = 0$$\n",
    "$$x_3-x_3^{0}+\\lambda \\frac{-c(y_1-y_2)-s(x_1-x_2)}{s^2+c^2} - \\omega ( 2(x_3 - x_2) ) = 0$$\n",
    "$$y_3-y_3^{0}+\\lambda \\frac{c(x_1-x_2)-s(y_1-y_2)}{s^2+c^2} - \\omega (2 (y_3 - y_2) ) = 0$$\n",
    "$$arctan(\\frac{s}{c})= \\alpha $$\n",
    "$$ (x_1 - x_2)^2 + (y_1 - y_2)^2 = d_1^2 $$\n",
    "$$ (x_3 - x_2)^2 + (y_3 - y_2)^2 = d_2^2 $$\n",
    "\n",
    "\n"
   ]
  },
  {
   "cell_type": "markdown",
   "metadata": {},
   "source": [
    "Let's try system of 7 equations with 7 unknowns $x_1, y_1, x_3, y_3, \\lambda,\\mu,\\omega $ using Newton or  modified Newton iterative method.\n",
    "\n",
    "$$ x^{(r+1)} = x^{(r)} - (F'(x^{(r)}))^{-1} f(x^{(r)})  $$\n",
    "$$ x^{(r+1)} = x^{(r)} - (F'(x^{(0)}))^{-1} f(x^{(r)})  $$\n"
   ]
  },
  {
   "cell_type": "markdown",
   "metadata": {},
   "source": [
    "\n",
    "\n",
    "Let's determine $F'$ matrix for our system of equations:\n",
    "\n",
    "$$ s = (x_1 - x_2)(y_3 - y_2) - (x_3 - x_2)(y_1 - y_2)$$\n",
    "$$ c = (x_1 - x_2)(x_3 - x_2) + (y_1 - y_2) (y_3 - y_2)$$\n",
    "\n",
    "$$  \\partial (\\frac{1}{s^2 + c^2}) = - 2 \\frac{s * \\partial s  +  c *\\partial c}{(s^2 + c^2)^2} $$\n"
   ]
  },
  {
   "cell_type": "code",
   "execution_count": 127,
   "metadata": {
    "collapsed": false
   },
   "outputs": [],
   "source": [
    "from __future__ import division\n",
    "from sympy import *\n",
    "\n",
    "x_1, y_1, x_2, y_2, x_3, y_3, _lambda, mu, omega, alpha = symbols('x_1 y_1 x_2 y_2 x_3 y_3 lambda mu omega alpha')\n",
    "s = (x_1 - x_2)*(y_3 - y_2) - (x_3 - x_2)*(y_1 - y_2)\n",
    "c = (x_1 - x_2)*(x_3 - x_2) + (y_1 - y_2)*(y_3 - y_2)\n",
    "\n",
    "x0_1, y0_1, x0_2, y0_2, x0_3, y0_3 = symbols('x0_1 y0_1 x0_2 y0_2 x0_3 y0_3')\n",
    "\n",
    "\n",
    "d1 = (x0_1 - x0_2)**2 + (y0_1 - y0_2)**2\n",
    "d2 = (x0_3 - x0_2)**2 + (y0_3 - y0_2)**2\n",
    "\n",
    "init_printing(use_unicode=True)\n"
   ]
  },
  {
   "cell_type": "code",
   "execution_count": 128,
   "metadata": {
    "collapsed": false
   },
   "outputs": [
    {
     "data": {
      "image/png": "[encoded data removed]",
      "text/latex": [
       "$$\\frac{\\lambda \\left(- \\left(- x_{2} + x_{3}\\right) \\left(\\left(x_{1} - x_{2}\\right) \\left(- y_{2} + y_{3}\\right) - \\left(- x_{2} + x_{3}\\right) \\left(y_{1} - y_{2}\\right)\\right) + \\left(- y_{2} + y_{3}\\right) \\left(\\left(x_{1} - x_{2}\\right) \\left(- x_{2} + x_{3}\\right) + \\left(y_{1} - y_{2}\\right) \\left(- y_{2} + y_{3}\\right)\\right)\\right)}{\\left(\\left(x_{1} - x_{2}\\right) \\left(- x_{2} + x_{3}\\right) + \\left(y_{1} - y_{2}\\right) \\left(- y_{2} + y_{3}\\right)\\right)^{2} + \\left(\\left(x_{1} - x_{2}\\right) \\left(- y_{2} + y_{3}\\right) - \\left(- x_{2} + x_{3}\\right) \\left(y_{1} - y_{2}\\right)\\right)^{2}} + \\mu \\left(2 x_{1} - 2 x_{2}\\right) - x_{0 1} + x_{1}$$"
      ],
      "text/plain": [
       "λ⋅(-(-x₂ + x₃)⋅((x₁ - x₂)⋅(-y₂ + y₃) - (-x₂ + x₃)⋅(y₁ - y₂)) + (-y₂ + y₃)⋅((x₁\n",
       "──────────────────────────────────────────────────────────────────────────────\n",
       "                                                         2                    \n",
       "            ((x₁ - x₂)⋅(-x₂ + x₃) + (y₁ - y₂)⋅(-y₂ + y₃))  + ((x₁ - x₂)⋅(-y₂ +\n",
       "\n",
       " - x₂)⋅(-x₂ + x₃) + (y₁ - y₂)⋅(-y₂ + y₃)))                              \n",
       "────────────────────────────────────────── + μ⋅(2⋅x₁ - 2⋅x₂) - x₀ ₁ + x₁\n",
       "                            2                                           \n",
       " y₃) - (-x₂ + x₃)⋅(y₁ - y₂))                                            "
      ]
     },
     "execution_count": 128,
     "metadata": {},
     "output_type": "execute_result"
    }
   ],
   "source": [
    "f_1 = x_1-x0_1 + _lambda * (c*(y_3-y_2)-s*(x_3-x_2))/(s**2+c**2) + mu*( 2*(x_1 - x_2) ) \n",
    "\n",
    "f_11 = diff(f_1, x_1)\n",
    "f_12 = diff(f_1, y_1)\n",
    "f_13 = diff(f_1, x_3)\n",
    "f_14 = diff(f_1, y_3)\n",
    "f_15 = diff(f_1, _lambda)\n",
    "f_16 = diff(f_1, mu)\n",
    "f_17 = diff(f_1, omega)\n",
    "\n",
    "f_1\n"
   ]
  },
  {
   "cell_type": "code",
   "execution_count": 129,
   "metadata": {
    "collapsed": false
   },
   "outputs": [
    {
     "data": {
      "image/png": "[encoded data removed]",
      "text/latex": [
       "$$\\frac{\\lambda \\left(\\left(- x_{2} + x_{3}\\right) \\left(- \\left(x_{1} - x_{2}\\right) \\left(- x_{2} + x_{3}\\right) - \\left(y_{1} - y_{2}\\right) \\left(- y_{2} + y_{3}\\right)\\right) - \\left(- y_{2} + y_{3}\\right) \\left(\\left(x_{1} - x_{2}\\right) \\left(- y_{2} + y_{3}\\right) - \\left(- x_{2} + x_{3}\\right) \\left(y_{1} - y_{2}\\right)\\right)\\right)}{\\left(\\left(x_{1} - x_{2}\\right) \\left(- x_{2} + x_{3}\\right) + \\left(y_{1} - y_{2}\\right) \\left(- y_{2} + y_{3}\\right)\\right)^{2} + \\left(\\left(x_{1} - x_{2}\\right) \\left(- y_{2} + y_{3}\\right) - \\left(- x_{2} + x_{3}\\right) \\left(y_{1} - y_{2}\\right)\\right)^{2}} + \\mu \\left(2 y_{1} - 2 y_{2}\\right) - y_{0 1} + y_{1}$$"
      ],
      "text/plain": [
       "λ⋅((-x₂ + x₃)⋅(-(x₁ - x₂)⋅(-x₂ + x₃) - (y₁ - y₂)⋅(-y₂ + y₃)) - (-y₂ + y₃)⋅((x₁\n",
       "──────────────────────────────────────────────────────────────────────────────\n",
       "                                                         2                    \n",
       "            ((x₁ - x₂)⋅(-x₂ + x₃) + (y₁ - y₂)⋅(-y₂ + y₃))  + ((x₁ - x₂)⋅(-y₂ +\n",
       "\n",
       " - x₂)⋅(-y₂ + y₃) - (-x₂ + x₃)⋅(y₁ - y₂)))                              \n",
       "────────────────────────────────────────── + μ⋅(2⋅y₁ - 2⋅y₂) - y₀ ₁ + y₁\n",
       "                            2                                           \n",
       " y₃) - (-x₂ + x₃)⋅(y₁ - y₂))                                            "
      ]
     },
     "execution_count": 129,
     "metadata": {},
     "output_type": "execute_result"
    }
   ],
   "source": [
    "f_2 = y_1 - y0_1 + _lambda*(-c*(x_3-x_2)-s*(y_3-y_2))/(s**2+c**2) + mu*(2*(y_1 - y_2))  \n",
    "\n",
    "f_21 = diff(f_2, x_1)\n",
    "f_22 = diff(f_2, y_1)\n",
    "f_23 = diff(f_2, x_3)\n",
    "f_24 = diff(f_2, y_3)\n",
    "f_25 = diff(f_2, _lambda)\n",
    "f_26 = diff(f_2, mu)\n",
    "f_27 = diff(f_2, omega)\n",
    "\n",
    "f_2"
   ]
  },
  {
   "cell_type": "code",
   "execution_count": 130,
   "metadata": {
    "collapsed": false
   },
   "outputs": [
    {
     "data": {
      "image/png": "[encoded data removed]",
      "text/latex": [
       "$$\\frac{\\lambda \\left(- \\left(x_{1} - x_{2}\\right) \\left(\\left(x_{1} - x_{2}\\right) \\left(- y_{2} + y_{3}\\right) - \\left(- x_{2} + x_{3}\\right) \\left(y_{1} - y_{2}\\right)\\right) + \\left(y_{1} - y_{2}\\right) \\left(- \\left(x_{1} - x_{2}\\right) \\left(- x_{2} + x_{3}\\right) - \\left(y_{1} - y_{2}\\right) \\left(- y_{2} + y_{3}\\right)\\right)\\right)}{\\left(\\left(x_{1} - x_{2}\\right) \\left(- x_{2} + x_{3}\\right) + \\left(y_{1} - y_{2}\\right) \\left(- y_{2} + y_{3}\\right)\\right)^{2} + \\left(\\left(x_{1} - x_{2}\\right) \\left(- y_{2} + y_{3}\\right) - \\left(- x_{2} + x_{3}\\right) \\left(y_{1} - y_{2}\\right)\\right)^{2}} - \\omega \\left(- 2 x_{2} + 2 x_{3}\\right) - x_{0 3} + x_{3}$$"
      ],
      "text/plain": [
       "λ⋅(-(x₁ - x₂)⋅((x₁ - x₂)⋅(-y₂ + y₃) - (-x₂ + x₃)⋅(y₁ - y₂)) + (y₁ - y₂)⋅(-(x₁ \n",
       "──────────────────────────────────────────────────────────────────────────────\n",
       "                                                         2                    \n",
       "            ((x₁ - x₂)⋅(-x₂ + x₃) + (y₁ - y₂)⋅(-y₂ + y₃))  + ((x₁ - x₂)⋅(-y₂ +\n",
       "\n",
       "- x₂)⋅(-x₂ + x₃) - (y₁ - y₂)⋅(-y₂ + y₃)))                               \n",
       "───────────────────────────────────────── - ω⋅(-2⋅x₂ + 2⋅x₃) - x₀ ₃ + x₃\n",
       "                            2                                           \n",
       " y₃) - (-x₂ + x₃)⋅(y₁ - y₂))                                            "
      ]
     },
     "execution_count": 130,
     "metadata": {},
     "output_type": "execute_result"
    }
   ],
   "source": [
    "f_3 = x_3 - x0_3 + _lambda * (-c*(y_1-y_2)-s*(x_1-x_2))/(s**2+c**2) - omega*(2*(x_3 - x_2) ) \n",
    "\n",
    "f_31 = diff(f_3, x_1)\n",
    "f_32 = diff(f_3, y_1)\n",
    "f_33 = diff(f_3, x_3)\n",
    "f_34 = diff(f_3, y_3)\n",
    "f_35 = diff(f_3, _lambda)\n",
    "f_36 = diff(f_3, mu)\n",
    "f_37 = diff(f_3, omega)\n",
    "\n",
    "f_3"
   ]
  },
  {
   "cell_type": "code",
   "execution_count": 131,
   "metadata": {
    "collapsed": false
   },
   "outputs": [
    {
     "data": {
      "image/png": "[encoded data removed]",
      "text/latex": [
       "$$\\frac{\\lambda \\left(\\left(x_{1} - x_{2}\\right) \\left(\\left(x_{1} - x_{2}\\right) \\left(- x_{2} + x_{3}\\right) + \\left(y_{1} - y_{2}\\right) \\left(- y_{2} + y_{3}\\right)\\right) - \\left(y_{1} - y_{2}\\right) \\left(\\left(x_{1} - x_{2}\\right) \\left(- y_{2} + y_{3}\\right) - \\left(- x_{2} + x_{3}\\right) \\left(y_{1} - y_{2}\\right)\\right)\\right)}{\\left(\\left(x_{1} - x_{2}\\right) \\left(- x_{2} + x_{3}\\right) + \\left(y_{1} - y_{2}\\right) \\left(- y_{2} + y_{3}\\right)\\right)^{2} + \\left(\\left(x_{1} - x_{2}\\right) \\left(- y_{2} + y_{3}\\right) - \\left(- x_{2} + x_{3}\\right) \\left(y_{1} - y_{2}\\right)\\right)^{2}} - \\omega \\left(- 2 y_{2} + 2 y_{3}\\right) - y_{0 3} + y_{3}$$"
      ],
      "text/plain": [
       "λ⋅((x₁ - x₂)⋅((x₁ - x₂)⋅(-x₂ + x₃) + (y₁ - y₂)⋅(-y₂ + y₃)) - (y₁ - y₂)⋅((x₁ - \n",
       "──────────────────────────────────────────────────────────────────────────────\n",
       "                                                        2                     \n",
       "           ((x₁ - x₂)⋅(-x₂ + x₃) + (y₁ - y₂)⋅(-y₂ + y₃))  + ((x₁ - x₂)⋅(-y₂ + \n",
       "\n",
       "x₂)⋅(-y₂ + y₃) - (-x₂ + x₃)⋅(y₁ - y₂)))                               \n",
       "─────────────────────────────────────── - ω⋅(-2⋅y₂ + 2⋅y₃) - y₀ ₃ + y₃\n",
       "                           2                                          \n",
       "y₃) - (-x₂ + x₃)⋅(y₁ - y₂))                                           "
      ]
     },
     "execution_count": 131,
     "metadata": {},
     "output_type": "execute_result"
    }
   ],
   "source": [
    "f_4 = y_3 - y0_3 + _lambda*(c*(x_1-x_2)-s*(y_1-y_2))/(s**2+c**2) - omega*(2*(y_3 - y_2))\n",
    "\n",
    "\n",
    "f_41 = diff(f_4, x_1)\n",
    "f_42 = diff(f_4, y_1)\n",
    "f_43 = diff(f_4, x_3)\n",
    "f_44 = diff(f_4, y_3)\n",
    "f_45 = diff(f_4, _lambda)\n",
    "f_46 = diff(f_4, mu)\n",
    "f_47 = diff(f_4, omega)\n",
    "\n",
    "f_4"
   ]
  },
  {
   "cell_type": "code",
   "execution_count": 132,
   "metadata": {
    "collapsed": false
   },
   "outputs": [
    {
     "data": {
      "image/png": "[encoded data removed]",
      "text/latex": [
       "$$- \\alpha + \\operatorname{atan}{\\left (\\frac{\\left(x_{1} - x_{2}\\right) \\left(- y_{2} + y_{3}\\right) - \\left(- x_{2} + x_{3}\\right) \\left(y_{1} - y_{2}\\right)}{\\left(x_{1} - x_{2}\\right) \\left(- x_{2} + x_{3}\\right) + \\left(y_{1} - y_{2}\\right) \\left(- y_{2} + y_{3}\\right)} \\right )}$$"
      ],
      "text/plain": [
       "         ⎛(x₁ - x₂)⋅(-y₂ + y₃) - (-x₂ + x₃)⋅(y₁ - y₂)⎞\n",
       "-α + atan⎜───────────────────────────────────────────⎟\n",
       "         ⎝(x₁ - x₂)⋅(-x₂ + x₃) + (y₁ - y₂)⋅(-y₂ + y₃)⎠"
      ]
     },
     "execution_count": 132,
     "metadata": {},
     "output_type": "execute_result"
    }
   ],
   "source": [
    "f_5 = atan(s/c) - alpha\n",
    "\n",
    "f_51 = diff(f_5, x_1)\n",
    "f_52 = diff(f_5, y_1)\n",
    "f_53 = diff(f_5, x_3)\n",
    "f_54 = diff(f_5, y_3)\n",
    "f_55 = diff(f_5, _lambda)\n",
    "f_56 = diff(f_5, mu)\n",
    "f_57 = diff(f_5, omega)\n",
    "\n",
    "f_5"
   ]
  },
  {
   "cell_type": "code",
   "execution_count": 133,
   "metadata": {
    "collapsed": false
   },
   "outputs": [
    {
     "data": {
      "image/png": "[encoded data removed]",
      "text/latex": [
       "$$- \\left(x_{0 1} - x_{0 2}\\right)^{2} + \\left(x_{1} - x_{2}\\right)^{2} - \\left(y_{0 1} - y_{0 2}\\right)^{2} + \\left(y_{1} - y_{2}\\right)^{2}$$"
      ],
      "text/plain": [
       "               2            2                2            2\n",
       "- (x₀ ₁ - x₀ ₂)  + (x₁ - x₂)  - (y₀ ₁ - y₀ ₂)  + (y₁ - y₂) "
      ]
     },
     "execution_count": 133,
     "metadata": {},
     "output_type": "execute_result"
    }
   ],
   "source": [
    "f_6 = (x_1 - x_2)**2 + (y_1 - y_2)**2 - d1\n",
    "\n",
    "f_61 = diff(f_6, x_1)\n",
    "f_62 = diff(f_6, y_1)\n",
    "f_63 = diff(f_6, x_3)\n",
    "f_64 = diff(f_6, y_3)\n",
    "f_65 = diff(f_6, _lambda)\n",
    "f_66 = diff(f_6, mu)\n",
    "f_67 = diff(f_6, omega)\n",
    "\n",
    "f_6"
   ]
  },
  {
   "cell_type": "code",
   "execution_count": 134,
   "metadata": {
    "collapsed": false
   },
   "outputs": [
    {
     "data": {
      "image/png": "[encoded data removed]",
      "text/latex": [
       "$$- \\left(- x_{0 2} + x_{0 3}\\right)^{2} + \\left(- x_{2} + x_{3}\\right)^{2} - \\left(- y_{0 2} + y_{0 3}\\right)^{2} + \\left(- y_{2} + y_{3}\\right)^{2}$$"
      ],
      "text/plain": [
       "                2             2                 2             2\n",
       "- (-x₀ ₂ + x₀ ₃)  + (-x₂ + x₃)  - (-y₀ ₂ + y₀ ₃)  + (-y₂ + y₃) "
      ]
     },
     "execution_count": 134,
     "metadata": {},
     "output_type": "execute_result"
    }
   ],
   "source": [
    "f_7 = (x_3 - x_2)**2 + (y_3 - y_2)**2 - d2\n",
    "\n",
    "f_71 = diff(f_7, x_1)\n",
    "f_72 = diff(f_7, y_1)\n",
    "f_73 = diff(f_7, x_3)\n",
    "f_74 = diff(f_7, y_3)\n",
    "f_75 = diff(f_7, _lambda)\n",
    "f_76 = diff(f_7, mu)\n",
    "f_77 = diff(f_7, omega)\n",
    "\n",
    "f_7"
   ]
  },
  {
   "cell_type": "markdown",
   "metadata": {},
   "source": [
    "Let's evaluate expressions on some example"
   ]
  },
  {
   "cell_type": "code",
   "execution_count": 301,
   "metadata": {
    "collapsed": false
   },
   "outputs": [],
   "source": [
    "import numpy as np\n",
    "\n",
    "data = { x0_1 : 0.0, y0_1 : 1.0, \n",
    "         x0_2 : 0.0, y0_2 : 0.0, \n",
    "         x0_3 : 1.0, y0_3 : 1.0,\n",
    "         alpha : pi/6.0,\n",
    "         _lambda : 0.0,\n",
    "         mu : 0.0,\n",
    "         omega : 0.0,\n",
    "         x_1 : 0.0, y_1 : 1.0, \n",
    "         x_2 : 0.0, y_2 : 0.0, \n",
    "         x_3 : 1.0, y_3 : 1.0,}\n",
    "\n",
    "\n",
    "\n",
    "_F = [[f_11, f_12, f_13, f_14, f_15, f_16, f_17],\n",
    "     [f_21, f_22, f_23, f_24, f_25, f_26, f_27],\n",
    "     [f_31, f_32, f_33, f_34, f_35, f_36, f_37],\n",
    "     [f_41, f_42, f_43, f_44, f_45, f_46, f_47],\n",
    "     [f_51, f_52, f_53, f_54, f_55, f_56, f_57],\n",
    "     [f_61, f_62, f_63, f_64, f_65, f_66, f_67],\n",
    "     [f_71, f_72, f_73, f_74, f_75, f_76, f_77]]\n",
    "\n",
    "from numpy.linalg import inv\n"
   ]
  },
  {
   "cell_type": "code",
   "execution_count": 317,
   "metadata": {
    "collapsed": false
   },
   "outputs": [],
   "source": [
    "\n",
    "\n",
    "__F = [];\n",
    "\n",
    "for l in _F:\n",
    "    for e in l:\n",
    "        __F.append(e.evalf(subs=data, chop=True))\n",
    "\n",
    "F = np.mat(np.array(__F, dtype=np.float).reshape((7,7)))\n",
    "\n",
    "iF = inv(F)\n"
   ]
  },
  {
   "cell_type": "code",
   "execution_count": 318,
   "metadata": {
    "collapsed": false
   },
   "outputs": [],
   "source": [
    "ff = np.mat([f_1.evalf(subs=data, chop=True), \n",
    "      f_2.evalf(subs=data, chop=True),\n",
    "      f_3.evalf(subs=data, chop=True),\n",
    "      f_4.evalf(subs=data, chop=True),\n",
    "      f_5.evalf(subs=data, chop=True),\n",
    "      f_6.evalf(subs=data, chop=True),\n",
    "      f_7.evalf(subs=data, chop=True)]).T\n",
    "\n",
    "\n",
    "ii = (np.mat([data[x_1],\n",
    "        data[y_1],\n",
    "        data[x_3],\n",
    "        data[y_3],\n",
    "        data[_lambda],\n",
    "        data[mu],\n",
    "        data[omega]]).T - iF*ff).tolist()\n",
    "\n"
   ]
  },
  {
   "cell_type": "code",
   "execution_count": 320,
   "metadata": {
    "collapsed": false
   },
   "outputs": [
    {
     "data": {
      "image/png": "[encoded data removed]",
      "text/latex": [
       "$$\\left ( 0.786366854176021, \\quad 0.617759800127289, \\quad 0.526276627869967, \\quad 1.31264348204599, \\quad 0.0, \\quad 1.0, \\quad 1.0, \\quad 1.0, \\quad 1.0, \\quad 2.0, \\quad 30.0\\right )$$"
      ],
      "text/plain": [
       "(0.786366854176021, 0.617759800127289, 0.526276627869967, 1.31264348204599, 0.\n",
       "0, 1.0, 1.0, 1.0, 1.0, 2.0, 30.0)"
      ]
     },
     "execution_count": 320,
     "metadata": {},
     "output_type": "execute_result"
    }
   ],
   "source": [
    "data[x_1] = ii[0][0];\n",
    "data[y_1] = ii[1][0];\n",
    "data[x_3] = ii[2][0];\n",
    "data[y_3] = ii[3][0];\n",
    "data[_lambda] = ii[4][0];\n",
    "data[mu] = ii[5][0];\n",
    "data[omega] = ii[6][0];\n",
    "\n",
    "data[x_1],data[y_1],data[x_3],data[y_3], data[x0_1],data[y0_1],data[x0_3],data[x0_3],((data[x_1]-data[x_2])**2 + (data[y_1]-data[y_2])**2), ((data[x_3]-data[x_2])**2 + (data[y_3]-data[y_2])**2), atan(s/c).evalf(subs=data, chop=True)/np.pi*180.0"
   ]
  },
  {
   "cell_type": "code",
   "execution_count": null,
   "metadata": {
    "collapsed": true
   },
   "outputs": [],
   "source": []
  }
 ],
 "metadata": {
  "kernelspec": {
   "display_name": "Python 3",
   "language": "python",
   "name": "python3"
  },
  "language_info": {
   "codemirror_mode": {
    "name": "ipython",
    "version": 3
   },
   "file_extension": ".py",
   "mimetype": "text/x-python",
   "name": "python",
   "nbconvert_exporter": "python",
   "pygments_lexer": "ipython3",
   "version": "3.5.0"
  }
 },
 "nbformat": 4,
 "nbformat_minor": 0
}
